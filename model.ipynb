{
 "metadata": {
  "name": "",
  "signature": "sha256:34199471a1889e1bdb628c12ad8d9e4109c6aa4377176c4ea99890de640a4a04"
 },
 "nbformat": 3,
 "nbformat_minor": 0,
 "worksheets": [
  {
   "cells": [
    {
     "cell_type": "code",
     "collapsed": false,
     "input": [
      "import tensorflow as tf \n",
      "import pandas as pd \n",
      "import numpy as np \n",
      "from sklearn.utils import shuffle"
     ],
     "language": "python",
     "metadata": {},
     "outputs": [],
     "prompt_number": 95
    },
    {
     "cell_type": "code",
     "collapsed": false,
     "input": [
      "input_data = pd.read_csv('data/creditcard.csv')"
     ],
     "language": "python",
     "metadata": {},
     "outputs": [],
     "prompt_number": 107
    },
    {
     "cell_type": "code",
     "collapsed": false,
     "input": [
      "input_data.head()\n",
      "input_data.describe()\n",
      "input_data.shape"
     ],
     "language": "python",
     "metadata": {},
     "outputs": []
    },
    {
     "cell_type": "code",
     "collapsed": false,
     "input": [
      "input_data.loc[input_data.Class == 0, 'Normal'] = 1\n",
      "input_data.loc[input_data.Class == 1, 'Normal'] = 0\n",
      "input_data = input_data.rename(columns={'Class': 'Fraud'})\n",
      "\n",
      "Fraud = input_data[input_data.Fraud == 1]\n",
      "Normal = input_data[input_data.Normal == 1]"
     ],
     "language": "python",
     "metadata": {},
     "outputs": [],
     "prompt_number": 108
    },
    {
     "cell_type": "code",
     "collapsed": false,
     "input": [
      "X_train = Fraud.sample(frac=0.8)\n",
      "X_train = pd.concat([X_train, Normal.sample(frac = 0.8)], axis = 0)\n",
      "X_test = input_data.loc[~input_data.index.isin(X_train.index)]"
     ],
     "language": "python",
     "metadata": {},
     "outputs": [],
     "prompt_number": 109
    },
    {
     "cell_type": "code",
     "collapsed": false,
     "input": [
      "X_train = shuffle(X_train)\n",
      "X_test = shuffle(X_test)\n",
      "\n",
      "y_train = X_train.Fraud\n",
      "y_train = pd.concat([y_train, X_train.Normal], axis=1)\n",
      "\n",
      "y_test = X_test.Fraud\n",
      "y_test = pd.concat([y_test, X_test.Normal], axis=1)"
     ],
     "language": "python",
     "metadata": {},
     "outputs": [],
     "prompt_number": 110
    },
    {
     "cell_type": "code",
     "collapsed": false,
     "input": [
      "X_train = X_train.drop(['Fraud','Normal'], axis = 1)\n",
      "X_test = X_test.drop(['Fraud','Normal'], axis = 1)"
     ],
     "language": "python",
     "metadata": {},
     "outputs": [],
     "prompt_number": 111
    },
    {
     "cell_type": "code",
     "collapsed": false,
     "input": [
      "features = X_train.columns.values\n",
      "\n",
      "for feature in features:\n",
      "    mean, std = input_data[feature].mean(), input_data[feature].std()\n",
      "    X_train.loc[:, feature] = (X_train[feature] - mean) / std\n",
      "    X_test.loc[:, feature] = (X_test[feature] - mean) / std"
     ],
     "language": "python",
     "metadata": {},
     "outputs": [],
     "prompt_number": 112
    },
    {
     "cell_type": "code",
     "collapsed": false,
     "input": [
      "print len(features)"
     ],
     "language": "python",
     "metadata": {},
     "outputs": [
      {
       "output_type": "stream",
       "stream": "stdout",
       "text": [
        "30\n"
       ]
      }
     ],
     "prompt_number": 17
    },
    {
     "cell_type": "code",
     "collapsed": false,
     "input": [
      "input_nodes = 30\n",
      "hidden_nodes1 = 16\n",
      "hidden_nodes2 = 8\n",
      "hidden_nodes3 = 4 \n",
      "output_nodes = 2\n",
      "batch_size = 100\n",
      "\n",
      "learning_rate = 0.1"
     ],
     "language": "python",
     "metadata": {},
     "outputs": [],
     "prompt_number": 113
    },
    {
     "cell_type": "code",
     "collapsed": false,
     "input": [
      "X = tf.placeholder(tf.float32, [None, input_nodes])\n",
      "Y = tf.placeholder(tf.float32, [None, output_nodes])\n",
      "\n",
      "X.get_shape()\n",
      "Y.get_shape()"
     ],
     "language": "python",
     "metadata": {},
     "outputs": [
      {
       "metadata": {},
       "output_type": "pyout",
       "prompt_number": 114,
       "text": [
        "TensorShape([Dimension(None), Dimension(2)])"
       ]
      }
     ],
     "prompt_number": 114
    },
    {
     "cell_type": "code",
     "collapsed": false,
     "input": [
      "weights = {\n",
      "'h1' : tf.Variable(tf.random_normal([input_nodes, hidden_nodes1])),\n",
      "'h2' : tf.Variable(tf.random_normal([hidden_nodes1, hidden_nodes2])),\n",
      "'h3' : tf.Variable(tf.random_normal([hidden_nodes2, hidden_nodes3])),\n",
      "'op' : tf.Variable(tf.random_normal([hidden_nodes3, output_nodes])),\n",
      "}"
     ],
     "language": "python",
     "metadata": {},
     "outputs": [],
     "prompt_number": 115
    },
    {
     "cell_type": "code",
     "collapsed": false,
     "input": [
      "biases = {\n",
      "    'h1': tf.Variable(tf.random_normal([hidden_nodes1])),\n",
      "    'h2': tf.Variable(tf.random_normal([hidden_nodes2])),\n",
      "    'h3': tf.Variable(tf.random_normal([hidden_nodes3])),\n",
      "    'op': tf.Variable(tf.random_normal([output_nodes]))\n",
      "}"
     ],
     "language": "python",
     "metadata": {},
     "outputs": [],
     "prompt_number": 116
    },
    {
     "cell_type": "code",
     "collapsed": false,
     "input": [
      "def model(input_row):\n",
      "    activation1 = tf.add(tf.matmul(input_row, weights['h1']), biases['h1'])\n",
      "    layer1 = tf.nn.relu(activation1)\n",
      "    \n",
      "    activation2 = tf.add(tf.matmul(layer1, weights['h2']), biases['h2'])\n",
      "    layer2 = tf.nn.relu(activation2)\n",
      "    \n",
      "    activation3 = tf.add(tf.matmul(layer2, weights['h3']), biases['h3'])\n",
      "    layer3 = tf.nn.relu(activation3)\n",
      "    \n",
      "    activation4 = tf.add(tf.matmul(layer3, weights['op']), biases['op'])\n",
      "    output = tf.nn.relu(activation4)\n",
      "    \n",
      "    return output\n",
      "\n",
      "Y_pred = model(X)\n",
      "cost = tf.reduce_mean(tf.nn.softmax_cross_entropy_with_logits(logits=Y_pred, labels=Y))\n",
      "optimizer = tf.train.AdamOptimizer(learning_rate=learning_rate).minimize(cost)"
     ],
     "language": "python",
     "metadata": {},
     "outputs": [],
     "prompt_number": 117
    },
    {
     "cell_type": "code",
     "collapsed": false,
     "input": [
      "training_epochs = 15\n",
      "display_step = 10"
     ],
     "language": "python",
     "metadata": {},
     "outputs": [],
     "prompt_number": 118
    },
    {
     "cell_type": "code",
     "collapsed": false,
     "input": [
      "init = tf.global_variables_initializer()"
     ],
     "language": "python",
     "metadata": {},
     "outputs": [],
     "prompt_number": 119
    },
    {
     "cell_type": "code",
     "collapsed": false,
     "input": [
      "inputX = X_train.as_matrix()\n",
      "inputY = y_train.as_matrix()\n",
      "inputX_test = X_test.as_matrix()\n",
      "inputY_test = y_test.as_matrix()\n",
      "\n",
      "\n",
      "with tf.Session() as sess:\n",
      "    sess.run(init)\n",
      "\n",
      "    for epoch in range(training_epochs):\n",
      "        avg_cost = 0.\n",
      "        total_batch = int(trainY.shape[0]/batch_size)\n",
      "        for i in range(total_batch):\n",
      "            batch_x = inputX[i*batch_size : (1+i)*batch_size]\n",
      "            batch_y = inputY[i*batch_size : (1+i)*batch_size]\n",
      "                                    \n",
      "            _, c = sess.run([optimizer, cost], feed_dict={X: batch_x, Y: batch_y})\n",
      "        \n",
      "        if epoch % display_step == 0:\n",
      "            print epoch+1, avg_cost"
     ],
     "language": "python",
     "metadata": {},
     "outputs": [
      {
       "output_type": "stream",
       "stream": "stdout",
       "text": [
        "1 0.0\n",
        "11"
       ]
      },
      {
       "output_type": "stream",
       "stream": "stdout",
       "text": [
        " 0.0\n"
       ]
      }
     ],
     "prompt_number": 122
    },
    {
     "cell_type": "code",
     "collapsed": false,
     "input": [
      "https://www.kaggle.com/currie32/predicting-fraud-with-tensorflow/notebook"
     ],
     "language": "python",
     "metadata": {},
     "outputs": []
    },
    {
     "cell_type": "code",
     "collapsed": false,
     "input": [],
     "language": "python",
     "metadata": {},
     "outputs": []
    },
    {
     "cell_type": "code",
     "collapsed": false,
     "input": [],
     "language": "python",
     "metadata": {},
     "outputs": []
    },
    {
     "cell_type": "code",
     "collapsed": false,
     "input": [],
     "language": "python",
     "metadata": {},
     "outputs": []
    },
    {
     "cell_type": "code",
     "collapsed": false,
     "input": [],
     "language": "python",
     "metadata": {},
     "outputs": []
    },
    {
     "cell_type": "code",
     "collapsed": false,
     "input": [],
     "language": "python",
     "metadata": {},
     "outputs": []
    },
    {
     "cell_type": "code",
     "collapsed": false,
     "input": [],
     "language": "python",
     "metadata": {},
     "outputs": []
    },
    {
     "cell_type": "code",
     "collapsed": false,
     "input": [],
     "language": "python",
     "metadata": {},
     "outputs": []
    },
    {
     "cell_type": "code",
     "collapsed": false,
     "input": [],
     "language": "python",
     "metadata": {},
     "outputs": []
    },
    {
     "cell_type": "code",
     "collapsed": false,
     "input": [],
     "language": "python",
     "metadata": {},
     "outputs": []
    },
    {
     "cell_type": "code",
     "collapsed": false,
     "input": [],
     "language": "python",
     "metadata": {},
     "outputs": []
    },
    {
     "cell_type": "code",
     "collapsed": false,
     "input": [],
     "language": "python",
     "metadata": {},
     "outputs": []
    },
    {
     "cell_type": "code",
     "collapsed": false,
     "input": [],
     "language": "python",
     "metadata": {},
     "outputs": []
    },
    {
     "cell_type": "code",
     "collapsed": false,
     "input": [],
     "language": "python",
     "metadata": {},
     "outputs": []
    },
    {
     "cell_type": "code",
     "collapsed": false,
     "input": [
      "# fix dimensions \n",
      "# train the model \n",
      "# tuning"
     ],
     "language": "python",
     "metadata": {},
     "outputs": []
    }
   ],
   "metadata": {}
  }
 ]
}